{
 "cells": [
  {
   "cell_type": "code",
   "execution_count": 3,
   "metadata": {},
   "outputs": [],
   "source": [
    "import pandas as pd\n",
    "import psycopg2"
   ]
  },
  {
   "cell_type": "code",
   "execution_count": 118,
   "metadata": {},
   "outputs": [],
   "source": [
    "conn = psycopg2.connect(dbname=\"postgres\", user=\"postgres\", password=\"docker123\", host=\"localhost\", port=\"5432\")\n",
    "cur = conn.cursor()\n",
    "sql = 'select * from MACHINE_ANALISE'\n",
    "pdAnalise = pd.read_sql_query(sql, conn)"
   ]
  },
  {
   "cell_type": "code",
   "execution_count": 119,
   "metadata": {},
   "outputs": [
    {
     "data": {
      "text/html": [
       "<div>\n",
       "<style scoped>\n",
       "    .dataframe tbody tr th:only-of-type {\n",
       "        vertical-align: middle;\n",
       "    }\n",
       "\n",
       "    .dataframe tbody tr th {\n",
       "        vertical-align: top;\n",
       "    }\n",
       "\n",
       "    .dataframe thead th {\n",
       "        text-align: right;\n",
       "    }\n",
       "</style>\n",
       "<table border=\"1\" class=\"dataframe\">\n",
       "  <thead>\n",
       "    <tr style=\"text-align: right;\">\n",
       "      <th></th>\n",
       "      <th>id</th>\n",
       "      <th>RENDA</th>\n",
       "      <th>IDADE</th>\n",
       "      <th>EMPRESTIMO</th>\n",
       "      <th>RESULTADO</th>\n",
       "      <th>FaixaRenda</th>\n",
       "      <th>FaixaEtaria</th>\n",
       "      <th>FaixaEmprestimo</th>\n",
       "    </tr>\n",
       "  </thead>\n",
       "  <tbody>\n",
       "    <tr>\n",
       "      <td>0</td>\n",
       "      <td>1</td>\n",
       "      <td>66155.92</td>\n",
       "      <td>59.0</td>\n",
       "      <td>8106.53</td>\n",
       "      <td>0</td>\n",
       "      <td>0</td>\n",
       "      <td>0</td>\n",
       "      <td>0</td>\n",
       "    </tr>\n",
       "    <tr>\n",
       "      <td>1</td>\n",
       "      <td>2</td>\n",
       "      <td>34415.15</td>\n",
       "      <td>48.0</td>\n",
       "      <td>6564.74</td>\n",
       "      <td>0</td>\n",
       "      <td>0</td>\n",
       "      <td>0</td>\n",
       "      <td>0</td>\n",
       "    </tr>\n",
       "    <tr>\n",
       "      <td>2</td>\n",
       "      <td>3</td>\n",
       "      <td>57317.17</td>\n",
       "      <td>63.0</td>\n",
       "      <td>8020.95</td>\n",
       "      <td>0</td>\n",
       "      <td>0</td>\n",
       "      <td>0</td>\n",
       "      <td>0</td>\n",
       "    </tr>\n",
       "    <tr>\n",
       "      <td>3</td>\n",
       "      <td>4</td>\n",
       "      <td>42709.53</td>\n",
       "      <td>45.0</td>\n",
       "      <td>6103.64</td>\n",
       "      <td>0</td>\n",
       "      <td>0</td>\n",
       "      <td>0</td>\n",
       "      <td>0</td>\n",
       "    </tr>\n",
       "    <tr>\n",
       "      <td>4</td>\n",
       "      <td>5</td>\n",
       "      <td>66952.68</td>\n",
       "      <td>18.0</td>\n",
       "      <td>8770.09</td>\n",
       "      <td>1</td>\n",
       "      <td>0</td>\n",
       "      <td>0</td>\n",
       "      <td>0</td>\n",
       "    </tr>\n",
       "    <tr>\n",
       "      <td>...</td>\n",
       "      <td>...</td>\n",
       "      <td>...</td>\n",
       "      <td>...</td>\n",
       "      <td>...</td>\n",
       "      <td>...</td>\n",
       "      <td>...</td>\n",
       "      <td>...</td>\n",
       "      <td>...</td>\n",
       "    </tr>\n",
       "    <tr>\n",
       "      <td>1996</td>\n",
       "      <td>1997</td>\n",
       "      <td>69516.12</td>\n",
       "      <td>23.0</td>\n",
       "      <td>3503.17</td>\n",
       "      <td>0</td>\n",
       "      <td>0</td>\n",
       "      <td>0</td>\n",
       "      <td>0</td>\n",
       "    </tr>\n",
       "    <tr>\n",
       "      <td>1997</td>\n",
       "      <td>1998</td>\n",
       "      <td>44311.44</td>\n",
       "      <td>28.0</td>\n",
       "      <td>5522.78</td>\n",
       "      <td>1</td>\n",
       "      <td>0</td>\n",
       "      <td>0</td>\n",
       "      <td>0</td>\n",
       "    </tr>\n",
       "    <tr>\n",
       "      <td>1998</td>\n",
       "      <td>1999</td>\n",
       "      <td>43756.05</td>\n",
       "      <td>63.0</td>\n",
       "      <td>1622.72</td>\n",
       "      <td>0</td>\n",
       "      <td>0</td>\n",
       "      <td>0</td>\n",
       "      <td>0</td>\n",
       "    </tr>\n",
       "    <tr>\n",
       "      <td>1999</td>\n",
       "      <td>2000</td>\n",
       "      <td>69436.57</td>\n",
       "      <td>56.0</td>\n",
       "      <td>7378.83</td>\n",
       "      <td>0</td>\n",
       "      <td>0</td>\n",
       "      <td>0</td>\n",
       "      <td>0</td>\n",
       "    </tr>\n",
       "    <tr>\n",
       "      <td>2000</td>\n",
       "      <td>2003</td>\n",
       "      <td>12312312.00</td>\n",
       "      <td>23.0</td>\n",
       "      <td>12323.00</td>\n",
       "      <td>0</td>\n",
       "      <td>0</td>\n",
       "      <td>0</td>\n",
       "      <td>0</td>\n",
       "    </tr>\n",
       "  </tbody>\n",
       "</table>\n",
       "<p>2001 rows × 8 columns</p>\n",
       "</div>"
      ],
      "text/plain": [
       "        id        RENDA  IDADE  EMPRESTIMO  RESULTADO  FaixaRenda  \\\n",
       "0        1     66155.92   59.0     8106.53          0           0   \n",
       "1        2     34415.15   48.0     6564.74          0           0   \n",
       "2        3     57317.17   63.0     8020.95          0           0   \n",
       "3        4     42709.53   45.0     6103.64          0           0   \n",
       "4        5     66952.68   18.0     8770.09          1           0   \n",
       "...    ...          ...    ...         ...        ...         ...   \n",
       "1996  1997     69516.12   23.0     3503.17          0           0   \n",
       "1997  1998     44311.44   28.0     5522.78          1           0   \n",
       "1998  1999     43756.05   63.0     1622.72          0           0   \n",
       "1999  2000     69436.57   56.0     7378.83          0           0   \n",
       "2000  2003  12312312.00   23.0    12323.00          0           0   \n",
       "\n",
       "      FaixaEtaria  FaixaEmprestimo  \n",
       "0               0                0  \n",
       "1               0                0  \n",
       "2               0                0  \n",
       "3               0                0  \n",
       "4               0                0  \n",
       "...           ...              ...  \n",
       "1996            0                0  \n",
       "1997            0                0  \n",
       "1998            0                0  \n",
       "1999            0                0  \n",
       "2000            0                0  \n",
       "\n",
       "[2001 rows x 8 columns]"
      ]
     },
     "execution_count": 119,
     "metadata": {},
     "output_type": "execute_result"
    }
   ],
   "source": [
    "pdAnalise[\"FaixaRenda\"] = 0\n",
    "pdAnalise[\"FaixaEtaria\"] = 0\n",
    "pdAnalise[\"FaixaEmprestimo\"] = 0\n",
    "pdAnalise"
   ]
  },
  {
   "cell_type": "code",
   "execution_count": 120,
   "metadata": {},
   "outputs": [
    {
     "data": {
      "text/html": [
       "<div>\n",
       "<style scoped>\n",
       "    .dataframe tbody tr th:only-of-type {\n",
       "        vertical-align: middle;\n",
       "    }\n",
       "\n",
       "    .dataframe tbody tr th {\n",
       "        vertical-align: top;\n",
       "    }\n",
       "\n",
       "    .dataframe thead th {\n",
       "        text-align: right;\n",
       "    }\n",
       "</style>\n",
       "<table border=\"1\" class=\"dataframe\">\n",
       "  <thead>\n",
       "    <tr style=\"text-align: right;\">\n",
       "      <th></th>\n",
       "      <th>id</th>\n",
       "      <th>RENDA</th>\n",
       "      <th>IDADE</th>\n",
       "      <th>EMPRESTIMO</th>\n",
       "      <th>RESULTADO</th>\n",
       "      <th>FaixaRenda</th>\n",
       "      <th>FaixaEtaria</th>\n",
       "      <th>FaixaEmprestimo</th>\n",
       "    </tr>\n",
       "  </thead>\n",
       "  <tbody>\n",
       "  </tbody>\n",
       "</table>\n",
       "</div>"
      ],
      "text/plain": [
       "Empty DataFrame\n",
       "Columns: [id, RENDA, IDADE, EMPRESTIMO, RESULTADO, FaixaRenda, FaixaEtaria, FaixaEmprestimo]\n",
       "Index: []"
      ]
     },
     "execution_count": 120,
     "metadata": {},
     "output_type": "execute_result"
    }
   ],
   "source": [
    "pdAnalise = pdAnalise[pdAnalise[\"IDADE\"] > 0]\n",
    "pdAnalise[pdAnalise[\"IDADE\"] < 0 ]"
   ]
  },
  {
   "cell_type": "code",
   "execution_count": 122,
   "metadata": {},
   "outputs": [],
   "source": [
    "pdAnalise.loc[(pdAnalise[\"RENDA\"] < 20000), \"FaixaRenda\"] = 0\n",
    "pdAnalise.loc[(pdAnalise[\"RENDA\"] >= 20000) & (pdAnalise[\"RENDA\"] < 30000), \"FaixaRenda\"] = 1\n",
    "pdAnalise.loc[(pdAnalise[\"RENDA\"] >= 30000) & (pdAnalise[\"RENDA\"] < 40000), \"FaixaRenda\"] = 2\n",
    "pdAnalise.loc[(pdAnalise[\"RENDA\"] >= 40000) & (pdAnalise[\"RENDA\"] < 50000), \"FaixaRenda\"] = 3\n",
    "pdAnalise.loc[(pdAnalise[\"RENDA\"] >= 50000) & (pdAnalise[\"RENDA\"] < 60000), \"FaixaRenda\"] = 4\n",
    "pdAnalise.loc[(pdAnalise[\"RENDA\"] >= 60000) & (pdAnalise[\"RENDA\"] < 70000), \"FaixaRenda\"] = 5\n",
    "pdAnalise.loc[(pdAnalise[\"RENDA\"] >= 70000), \"FaixaRenda\"] = 6"
   ]
  },
  {
   "cell_type": "code",
   "execution_count": 123,
   "metadata": {},
   "outputs": [],
   "source": [
    "pdAnalise.loc[(pdAnalise[\"IDADE\"]) >= 18 & (pdAnalise[\"IDADE\"] < 25), \"FaixaEtaria\"] = 0\n",
    "pdAnalise.loc[(pdAnalise[\"IDADE\"]) >= 25 & (pdAnalise[\"IDADE\"] < 60), \"FaixaEtaria\"] = 1\n",
    "pdAnalise.loc[(pdAnalise[\"IDADE\"] >= 60), \"FaixaEtaria\"] = 2"
   ]
  },
  {
   "cell_type": "code",
   "execution_count": 124,
   "metadata": {},
   "outputs": [],
   "source": [
    "pdAnalise.loc[(pdAnalise[\"EMPRESTIMO\"] < 2000), \"FaixaEmprestimo\"] = 0\n",
    "pdAnalise.loc[(pdAnalise[\"EMPRESTIMO\"] >= 2000) & (pdAnalise[\"EMPRESTIMO\"] < 4000), \"FaixaEmprestimo\"] = 1\n",
    "pdAnalise.loc[(pdAnalise[\"EMPRESTIMO\"] >= 4000) & (pdAnalise[\"EMPRESTIMO\"] < 6000), \"FaixaEmprestimo\"] = 2\n",
    "pdAnalise.loc[(pdAnalise[\"EMPRESTIMO\"] >= 6000) & (pdAnalise[\"EMPRESTIMO\"] < 8000), \"FaixaEmprestimo\"] = 3\n",
    "pdAnalise.loc[(pdAnalise[\"EMPRESTIMO\"] >= 8000) & (pdAnalise[\"EMPRESTIMO\"] < 10000), \"FaixaEmprestimo\"] = 4\n",
    "pdAnalise.loc[(pdAnalise[\"EMPRESTIMO\"] >= 12000) & (pdAnalise[\"EMPRESTIMO\"] < 14000), \"FaixaEmprestimo\"] = 5\n",
    "pdAnalise.loc[(pdAnalise[\"EMPRESTIMO\"] >= 14000) & (pdAnalise[\"EMPRESTIMO\"] < 16000), \"FaixaEmprestimo\"] = 6\n",
    "pdAnalise.loc[(pdAnalise[\"EMPRESTIMO\"] >= 16000), \"FaixaEmprestimo\"] = 7"
   ]
  },
  {
   "cell_type": "code",
   "execution_count": 125,
   "metadata": {},
   "outputs": [
    {
     "data": {
      "text/html": [
       "<div>\n",
       "<style scoped>\n",
       "    .dataframe tbody tr th:only-of-type {\n",
       "        vertical-align: middle;\n",
       "    }\n",
       "\n",
       "    .dataframe tbody tr th {\n",
       "        vertical-align: top;\n",
       "    }\n",
       "\n",
       "    .dataframe thead th {\n",
       "        text-align: right;\n",
       "    }\n",
       "</style>\n",
       "<table border=\"1\" class=\"dataframe\">\n",
       "  <thead>\n",
       "    <tr style=\"text-align: right;\">\n",
       "      <th></th>\n",
       "      <th>id</th>\n",
       "      <th>RENDA</th>\n",
       "      <th>IDADE</th>\n",
       "      <th>EMPRESTIMO</th>\n",
       "      <th>RESULTADO</th>\n",
       "      <th>FaixaRenda</th>\n",
       "      <th>FaixaEtaria</th>\n",
       "      <th>FaixaEmprestimo</th>\n",
       "    </tr>\n",
       "  </thead>\n",
       "  <tbody>\n",
       "    <tr>\n",
       "      <td>count</td>\n",
       "      <td>1995.000000</td>\n",
       "      <td>1.995000e+03</td>\n",
       "      <td>1995.000000</td>\n",
       "      <td>1995.000000</td>\n",
       "      <td>1995.000000</td>\n",
       "      <td>1995.000000</td>\n",
       "      <td>1995.000000</td>\n",
       "      <td>1995.000000</td>\n",
       "    </tr>\n",
       "    <tr>\n",
       "      <td>mean</td>\n",
       "      <td>1003.932832</td>\n",
       "      <td>5.147772e+04</td>\n",
       "      <td>40.420050</td>\n",
       "      <td>4447.185689</td>\n",
       "      <td>0.141855</td>\n",
       "      <td>3.044612</td>\n",
       "      <td>1.082707</td>\n",
       "      <td>1.500251</td>\n",
       "    </tr>\n",
       "    <tr>\n",
       "      <td>std</td>\n",
       "      <td>576.169978</td>\n",
       "      <td>2.750148e+05</td>\n",
       "      <td>13.279119</td>\n",
       "      <td>3051.219944</td>\n",
       "      <td>0.348988</td>\n",
       "      <td>1.415105</td>\n",
       "      <td>0.275508</td>\n",
       "      <td>1.343424</td>\n",
       "    </tr>\n",
       "    <tr>\n",
       "      <td>min</td>\n",
       "      <td>1.000000</td>\n",
       "      <td>2.001448e+04</td>\n",
       "      <td>18.000000</td>\n",
       "      <td>1.370000</td>\n",
       "      <td>0.000000</td>\n",
       "      <td>1.000000</td>\n",
       "      <td>1.000000</td>\n",
       "      <td>0.000000</td>\n",
       "    </tr>\n",
       "    <tr>\n",
       "      <td>25%</td>\n",
       "      <td>505.500000</td>\n",
       "      <td>3.281977e+04</td>\n",
       "      <td>29.000000</td>\n",
       "      <td>1935.080000</td>\n",
       "      <td>0.000000</td>\n",
       "      <td>2.000000</td>\n",
       "      <td>1.000000</td>\n",
       "      <td>0.000000</td>\n",
       "    </tr>\n",
       "    <tr>\n",
       "      <td>50%</td>\n",
       "      <td>1004.000000</td>\n",
       "      <td>4.578874e+04</td>\n",
       "      <td>41.000000</td>\n",
       "      <td>3972.150000</td>\n",
       "      <td>0.000000</td>\n",
       "      <td>3.000000</td>\n",
       "      <td>1.000000</td>\n",
       "      <td>1.000000</td>\n",
       "    </tr>\n",
       "    <tr>\n",
       "      <td>75%</td>\n",
       "      <td>1502.500000</td>\n",
       "      <td>5.779499e+04</td>\n",
       "      <td>52.000000</td>\n",
       "      <td>6446.955000</td>\n",
       "      <td>0.000000</td>\n",
       "      <td>4.000000</td>\n",
       "      <td>1.000000</td>\n",
       "      <td>2.000000</td>\n",
       "    </tr>\n",
       "    <tr>\n",
       "      <td>max</td>\n",
       "      <td>2003.000000</td>\n",
       "      <td>1.231231e+07</td>\n",
       "      <td>63.000000</td>\n",
       "      <td>13766.050000</td>\n",
       "      <td>1.000000</td>\n",
       "      <td>6.000000</td>\n",
       "      <td>2.000000</td>\n",
       "      <td>5.000000</td>\n",
       "    </tr>\n",
       "  </tbody>\n",
       "</table>\n",
       "</div>"
      ],
      "text/plain": [
       "                id         RENDA        IDADE    EMPRESTIMO    RESULTADO  \\\n",
       "count  1995.000000  1.995000e+03  1995.000000   1995.000000  1995.000000   \n",
       "mean   1003.932832  5.147772e+04    40.420050   4447.185689     0.141855   \n",
       "std     576.169978  2.750148e+05    13.279119   3051.219944     0.348988   \n",
       "min       1.000000  2.001448e+04    18.000000      1.370000     0.000000   \n",
       "25%     505.500000  3.281977e+04    29.000000   1935.080000     0.000000   \n",
       "50%    1004.000000  4.578874e+04    41.000000   3972.150000     0.000000   \n",
       "75%    1502.500000  5.779499e+04    52.000000   6446.955000     0.000000   \n",
       "max    2003.000000  1.231231e+07    63.000000  13766.050000     1.000000   \n",
       "\n",
       "        FaixaRenda  FaixaEtaria  FaixaEmprestimo  \n",
       "count  1995.000000  1995.000000      1995.000000  \n",
       "mean      3.044612     1.082707         1.500251  \n",
       "std       1.415105     0.275508         1.343424  \n",
       "min       1.000000     1.000000         0.000000  \n",
       "25%       2.000000     1.000000         0.000000  \n",
       "50%       3.000000     1.000000         1.000000  \n",
       "75%       4.000000     1.000000         2.000000  \n",
       "max       6.000000     2.000000         5.000000  "
      ]
     },
     "execution_count": 125,
     "metadata": {},
     "output_type": "execute_result"
    }
   ],
   "source": [
    "pdAnalise.describe()"
   ]
  },
  {
   "cell_type": "code",
   "execution_count": 100,
   "metadata": {},
   "outputs": [],
   "source": [
    "from sklearn.model_selection import train_test_split\n",
    "from sklearn.metrics import accuracy_score\n",
    "from sklearn.metrics import classification_report\n",
    "\n",
    "from sklearn.discriminant_analysis import LinearDiscriminantAnalysis\n",
    "from sklearn.neighbors import KNeighborsClassifier\n",
    "from sklearn.naive_bayes import GaussianNB\n",
    "from sklearn.tree import DecisionTreeClassifier\n",
    "from sklearn.svm import SVC\n",
    "from sklearn import svm"
   ]
  },
  {
   "cell_type": "code",
   "execution_count": 135,
   "metadata": {},
   "outputs": [
    {
     "data": {
      "text/plain": [
       "                        RESULTADO\n",
       "id               count  0            1712.000000\n",
       "                        1             283.000000\n",
       "                 mean   0            1009.235981\n",
       "                        1             971.851590\n",
       "                 std    0             575.845762\n",
       "                                        ...     \n",
       "FaixaEmprestimo  50%    1               3.000000\n",
       "                 75%    0               2.000000\n",
       "                        1               3.000000\n",
       "                 max    0               5.000000\n",
       "                        1               5.000000\n",
       "Length: 112, dtype: float64"
      ]
     },
     "execution_count": 135,
     "metadata": {},
     "output_type": "execute_result"
    }
   ],
   "source": [
    "# VERIFICA PROPORÇÃO DOS RESULTADOS\n",
    "pdAnalise.groupby('RESULTADO').describe().unstack(1)"
   ]
  },
  {
   "cell_type": "code",
   "execution_count": 137,
   "metadata": {},
   "outputs": [
    {
     "data": {
      "text/html": [
       "<div>\n",
       "<style scoped>\n",
       "    .dataframe tbody tr th:only-of-type {\n",
       "        vertical-align: middle;\n",
       "    }\n",
       "\n",
       "    .dataframe tbody tr th {\n",
       "        vertical-align: top;\n",
       "    }\n",
       "\n",
       "    .dataframe thead th {\n",
       "        text-align: right;\n",
       "    }\n",
       "</style>\n",
       "<table border=\"1\" class=\"dataframe\">\n",
       "  <thead>\n",
       "    <tr style=\"text-align: right;\">\n",
       "      <th></th>\n",
       "      <th>id</th>\n",
       "      <th>RENDA</th>\n",
       "      <th>IDADE</th>\n",
       "      <th>EMPRESTIMO</th>\n",
       "      <th>RESULTADO</th>\n",
       "      <th>FaixaRenda</th>\n",
       "      <th>FaixaEtaria</th>\n",
       "      <th>FaixaEmprestimo</th>\n",
       "    </tr>\n",
       "  </thead>\n",
       "  <tbody>\n",
       "    <tr>\n",
       "      <td>2000</td>\n",
       "      <td>2003</td>\n",
       "      <td>12312312.0</td>\n",
       "      <td>23.0</td>\n",
       "      <td>12323.0</td>\n",
       "      <td>0</td>\n",
       "      <td>6</td>\n",
       "      <td>1</td>\n",
       "      <td>5</td>\n",
       "    </tr>\n",
       "  </tbody>\n",
       "</table>\n",
       "</div>"
      ],
      "text/plain": [
       "        id       RENDA  IDADE  EMPRESTIMO  RESULTADO  FaixaRenda  FaixaEtaria  \\\n",
       "2000  2003  12312312.0   23.0     12323.0          0           6            1   \n",
       "\n",
       "      FaixaEmprestimo  \n",
       "2000                5  "
      ]
     },
     "execution_count": 137,
     "metadata": {},
     "output_type": "execute_result"
    }
   ],
   "source": [
    "pdAnalise[pdAnalise[\"id\"] > 2000]"
   ]
  },
  {
   "cell_type": "code",
   "execution_count": 139,
   "metadata": {},
   "outputs": [
    {
     "data": {
      "text/html": [
       "<div>\n",
       "<style scoped>\n",
       "    .dataframe tbody tr th:only-of-type {\n",
       "        vertical-align: middle;\n",
       "    }\n",
       "\n",
       "    .dataframe tbody tr th {\n",
       "        vertical-align: top;\n",
       "    }\n",
       "\n",
       "    .dataframe thead th {\n",
       "        text-align: right;\n",
       "    }\n",
       "</style>\n",
       "<table border=\"1\" class=\"dataframe\">\n",
       "  <thead>\n",
       "    <tr style=\"text-align: right;\">\n",
       "      <th></th>\n",
       "      <th>id</th>\n",
       "      <th>RENDA</th>\n",
       "      <th>IDADE</th>\n",
       "      <th>EMPRESTIMO</th>\n",
       "      <th>RESULTADO</th>\n",
       "      <th>FaixaRenda</th>\n",
       "      <th>FaixaEtaria</th>\n",
       "      <th>FaixaEmprestimo</th>\n",
       "    </tr>\n",
       "  </thead>\n",
       "  <tbody>\n",
       "    <tr>\n",
       "      <td>0</td>\n",
       "      <td>272</td>\n",
       "      <td>33552.38</td>\n",
       "      <td>25.0</td>\n",
       "      <td>6054.24</td>\n",
       "      <td>1</td>\n",
       "      <td>2</td>\n",
       "      <td>1</td>\n",
       "      <td>3</td>\n",
       "    </tr>\n",
       "    <tr>\n",
       "      <td>1</td>\n",
       "      <td>670</td>\n",
       "      <td>23298.46</td>\n",
       "      <td>48.0</td>\n",
       "      <td>1741.18</td>\n",
       "      <td>0</td>\n",
       "      <td>1</td>\n",
       "      <td>1</td>\n",
       "      <td>0</td>\n",
       "    </tr>\n",
       "    <tr>\n",
       "      <td>2</td>\n",
       "      <td>1620</td>\n",
       "      <td>33159.21</td>\n",
       "      <td>42.0</td>\n",
       "      <td>2135.53</td>\n",
       "      <td>0</td>\n",
       "      <td>2</td>\n",
       "      <td>1</td>\n",
       "      <td>1</td>\n",
       "    </tr>\n",
       "    <tr>\n",
       "      <td>3</td>\n",
       "      <td>520</td>\n",
       "      <td>64913.34</td>\n",
       "      <td>26.0</td>\n",
       "      <td>9781.32</td>\n",
       "      <td>1</td>\n",
       "      <td>5</td>\n",
       "      <td>1</td>\n",
       "      <td>4</td>\n",
       "    </tr>\n",
       "    <tr>\n",
       "      <td>4</td>\n",
       "      <td>1622</td>\n",
       "      <td>60362.34</td>\n",
       "      <td>24.0</td>\n",
       "      <td>10306.70</td>\n",
       "      <td>1</td>\n",
       "      <td>5</td>\n",
       "      <td>1</td>\n",
       "      <td>0</td>\n",
       "    </tr>\n",
       "    <tr>\n",
       "      <td>...</td>\n",
       "      <td>...</td>\n",
       "      <td>...</td>\n",
       "      <td>...</td>\n",
       "      <td>...</td>\n",
       "      <td>...</td>\n",
       "      <td>...</td>\n",
       "      <td>...</td>\n",
       "      <td>...</td>\n",
       "    </tr>\n",
       "    <tr>\n",
       "      <td>1279</td>\n",
       "      <td>73</td>\n",
       "      <td>33704.50</td>\n",
       "      <td>33.0</td>\n",
       "      <td>5898.00</td>\n",
       "      <td>1</td>\n",
       "      <td>2</td>\n",
       "      <td>1</td>\n",
       "      <td>2</td>\n",
       "    </tr>\n",
       "    <tr>\n",
       "      <td>1280</td>\n",
       "      <td>1130</td>\n",
       "      <td>34145.79</td>\n",
       "      <td>31.0</td>\n",
       "      <td>4074.95</td>\n",
       "      <td>0</td>\n",
       "      <td>2</td>\n",
       "      <td>1</td>\n",
       "      <td>2</td>\n",
       "    </tr>\n",
       "    <tr>\n",
       "      <td>1281</td>\n",
       "      <td>1109</td>\n",
       "      <td>22127.92</td>\n",
       "      <td>61.0</td>\n",
       "      <td>1777.82</td>\n",
       "      <td>0</td>\n",
       "      <td>1</td>\n",
       "      <td>2</td>\n",
       "      <td>0</td>\n",
       "    </tr>\n",
       "    <tr>\n",
       "      <td>1282</td>\n",
       "      <td>1089</td>\n",
       "      <td>64501.93</td>\n",
       "      <td>33.0</td>\n",
       "      <td>12147.31</td>\n",
       "      <td>1</td>\n",
       "      <td>5</td>\n",
       "      <td>1</td>\n",
       "      <td>5</td>\n",
       "    </tr>\n",
       "    <tr>\n",
       "      <td>1283</td>\n",
       "      <td>1384</td>\n",
       "      <td>26643.80</td>\n",
       "      <td>19.0</td>\n",
       "      <td>1413.78</td>\n",
       "      <td>0</td>\n",
       "      <td>1</td>\n",
       "      <td>1</td>\n",
       "      <td>0</td>\n",
       "    </tr>\n",
       "  </tbody>\n",
       "</table>\n",
       "<p>1284 rows × 8 columns</p>\n",
       "</div>"
      ],
      "text/plain": [
       "        id     RENDA  IDADE  EMPRESTIMO  RESULTADO  FaixaRenda  FaixaEtaria  \\\n",
       "0      272  33552.38   25.0     6054.24          1           2            1   \n",
       "1      670  23298.46   48.0     1741.18          0           1            1   \n",
       "2     1620  33159.21   42.0     2135.53          0           2            1   \n",
       "3      520  64913.34   26.0     9781.32          1           5            1   \n",
       "4     1622  60362.34   24.0    10306.70          1           5            1   \n",
       "...    ...       ...    ...         ...        ...         ...          ...   \n",
       "1279    73  33704.50   33.0     5898.00          1           2            1   \n",
       "1280  1130  34145.79   31.0     4074.95          0           2            1   \n",
       "1281  1109  22127.92   61.0     1777.82          0           1            2   \n",
       "1282  1089  64501.93   33.0    12147.31          1           5            1   \n",
       "1283  1384  26643.80   19.0     1413.78          0           1            1   \n",
       "\n",
       "      FaixaEmprestimo  \n",
       "0                   3  \n",
       "1                   0  \n",
       "2                   1  \n",
       "3                   4  \n",
       "4                   0  \n",
       "...               ...  \n",
       "1279                2  \n",
       "1280                2  \n",
       "1281                0  \n",
       "1282                5  \n",
       "1283                0  \n",
       "\n",
       "[1284 rows x 8 columns]"
      ]
     },
     "execution_count": 139,
     "metadata": {},
     "output_type": "execute_result"
    }
   ],
   "source": [
    "# AJUSTA PROBLEMA DE BASE DESBALANCEADA\n",
    "\n",
    "# SEPARA O REGISTRO NOVE QUE FOI IMPORTADO\n",
    "dtNovRegistroAnalise = pdAnalise[pdAnalise[\"id\"] > 2000]\n",
    "dtAntigosRegistrosAnalise = pdAnalise[pdAnalise[\"id\"] <= 2000]\n",
    "\n",
    "# SEPARA EM DOIS DF UM SOMENTE CLASSIFICADO COM 0 E OUTRO COM 1\n",
    "dtAnaliseZero = dtAntigosRegistrosAnalise[dtAntigosRegistrosAnalise[\"RESULTADO\"] == 0]\n",
    "dtAnaliseUm = dtAntigosRegistrosAnalise[dtAntigosRegistrosAnalise[\"RESULTADO\"] == 1]\n",
    "\n",
    "# SHUFFLE NO DF\n",
    "dtAnaliseZero = dtAnaliseZero.sample(frac=1).reset_index(drop=True)\n",
    "\n",
    "# DEIXA SOMENTE 1000 REGISTROS COM RESULTADOS IGUAL A 0 PARA NÃO DEIXAR A BASE DESBALANCEADA\n",
    "indexZero = dtAnaliseZero[dtAnaliseZero.index > 1000]\n",
    "dtAnaliseZero = dtAnaliseZero.drop(indexZero.index, axis=0)\n",
    "\n",
    "# UNE OS DF NOVAMENTE\n",
    "dtFullTratadaAnalise = pd.concat([dtAnaliseUm, dtAnaliseZero])\n",
    "\n",
    "# SHUFFLE NO DF\n",
    "dtFullTratadaAnalise = dtFullTratadaAnalise.sample(frac=1).reset_index(drop=True)\n",
    "dtFullTratadaAnalise"
   ]
  },
  {
   "cell_type": "code",
   "execution_count": 148,
   "metadata": {},
   "outputs": [],
   "source": [
    "X_train, X_test, y_train, y_test = train_test_split(dtFullTratadaAnalise.iloc[:,5:8], dtFullTratadaAnalise[\"RESULTADO\"], test_size=0.30, random_state=27)"
   ]
  },
  {
   "cell_type": "code",
   "execution_count": 149,
   "metadata": {},
   "outputs": [],
   "source": [
    "###########################################\n",
    "# KNN\n",
    "KNN_model = KNeighborsClassifier(n_neighbors=5)"
   ]
  },
  {
   "cell_type": "code",
   "execution_count": 150,
   "metadata": {
    "scrolled": true
   },
   "outputs": [
    {
     "data": {
      "text/plain": [
       "KNeighborsClassifier(algorithm='auto', leaf_size=30, metric='minkowski',\n",
       "                     metric_params=None, n_jobs=None, n_neighbors=5, p=2,\n",
       "                     weights='uniform')"
      ]
     },
     "execution_count": 150,
     "metadata": {},
     "output_type": "execute_result"
    }
   ],
   "source": [
    "KNN_model.fit(X_train, y_train)"
   ]
  },
  {
   "cell_type": "code",
   "execution_count": 151,
   "metadata": {},
   "outputs": [],
   "source": [
    "KNN_prediction = KNN_model.predict(X_test)"
   ]
  },
  {
   "cell_type": "code",
   "execution_count": 152,
   "metadata": {},
   "outputs": [
    {
     "data": {
      "text/plain": [
       "0.8134715025906736"
      ]
     },
     "execution_count": 152,
     "metadata": {},
     "output_type": "execute_result"
    }
   ],
   "source": [
    "accuracy_score(KNN_prediction, y_test)"
   ]
  },
  {
   "cell_type": "code",
   "execution_count": 153,
   "metadata": {},
   "outputs": [
    {
     "name": "stdout",
     "output_type": "stream",
     "text": [
      "              precision    recall  f1-score   support\n",
      "\n",
      "           0       0.88      0.87      0.88       299\n",
      "           1       0.58      0.61      0.60        87\n",
      "\n",
      "    accuracy                           0.81       386\n",
      "   macro avg       0.73      0.74      0.74       386\n",
      "weighted avg       0.82      0.81      0.81       386\n",
      "\n"
     ]
    }
   ],
   "source": [
    "print(classification_report(y_test, KNN_prediction))"
   ]
  },
  {
   "cell_type": "code",
   "execution_count": 60,
   "metadata": {},
   "outputs": [
    {
     "data": {
      "text/plain": [
       "315"
      ]
     },
     "execution_count": 60,
     "metadata": {},
     "output_type": "execute_result"
    }
   ],
   "source": [
    "accuracy_score(KNN_prediction, y_test)"
   ]
  },
  {
   "cell_type": "code",
   "execution_count": 154,
   "metadata": {},
   "outputs": [],
   "source": [
    "###########################################\n",
    "# SVC\n",
    "SVC_model = svm.SVC()"
   ]
  },
  {
   "cell_type": "code",
   "execution_count": 155,
   "metadata": {},
   "outputs": [
    {
     "name": "stderr",
     "output_type": "stream",
     "text": [
      "/home/rauan/.local/lib/python3.6/site-packages/sklearn/svm/base.py:193: FutureWarning: The default value of gamma will change from 'auto' to 'scale' in version 0.22 to account better for unscaled features. Set gamma explicitly to 'auto' or 'scale' to avoid this warning.\n",
      "  \"avoid this warning.\", FutureWarning)\n"
     ]
    },
    {
     "data": {
      "text/plain": [
       "SVC(C=1.0, cache_size=200, class_weight=None, coef0=0.0,\n",
       "    decision_function_shape='ovr', degree=3, gamma='auto_deprecated',\n",
       "    kernel='rbf', max_iter=-1, probability=False, random_state=None,\n",
       "    shrinking=True, tol=0.001, verbose=False)"
      ]
     },
     "execution_count": 155,
     "metadata": {},
     "output_type": "execute_result"
    }
   ],
   "source": [
    "SVC_model.fit(X_train, y_train)"
   ]
  },
  {
   "cell_type": "code",
   "execution_count": 156,
   "metadata": {},
   "outputs": [],
   "source": [
    "SVC_prediction = SVC_model.predict(X_test)"
   ]
  },
  {
   "cell_type": "code",
   "execution_count": 157,
   "metadata": {},
   "outputs": [
    {
     "name": "stdout",
     "output_type": "stream",
     "text": [
      "              precision    recall  f1-score   support\n",
      "\n",
      "           0       0.80      0.98      0.88       299\n",
      "           1       0.71      0.14      0.23        87\n",
      "\n",
      "    accuracy                           0.79       386\n",
      "   macro avg       0.75      0.56      0.56       386\n",
      "weighted avg       0.78      0.79      0.73       386\n",
      "\n"
     ]
    }
   ],
   "source": [
    "print(classification_report(y_test, SVC_prediction))"
   ]
  },
  {
   "cell_type": "code",
   "execution_count": 55,
   "metadata": {},
   "outputs": [
    {
     "data": {
      "text/plain": [
       "0.8471177944862155"
      ]
     },
     "execution_count": 55,
     "metadata": {},
     "output_type": "execute_result"
    }
   ],
   "source": [
    "accuracy_score(SVC_prediction, y_test)"
   ]
  },
  {
   "cell_type": "code",
   "execution_count": 158,
   "metadata": {},
   "outputs": [],
   "source": [
    "from sklearn.neural_network import MLPClassifier"
   ]
  },
  {
   "cell_type": "code",
   "execution_count": 161,
   "metadata": {},
   "outputs": [
    {
     "name": "stdout",
     "output_type": "stream",
     "text": [
      "              precision    recall  f1-score   support\n",
      "\n",
      "           0       0.83      0.94      0.88       299\n",
      "           1       0.63      0.36      0.46        87\n",
      "\n",
      "    accuracy                           0.81       386\n",
      "   macro avg       0.73      0.65      0.67       386\n",
      "weighted avg       0.79      0.81      0.79       386\n",
      "\n"
     ]
    },
    {
     "name": "stderr",
     "output_type": "stream",
     "text": [
      "/home/rauan/.local/lib/python3.6/site-packages/sklearn/neural_network/multilayer_perceptron.py:566: ConvergenceWarning: Stochastic Optimizer: Maximum iterations (200) reached and the optimization hasn't converged yet.\n",
      "  % self.max_iter, ConvergenceWarning)\n"
     ]
    }
   ],
   "source": [
    "clf = MLPClassifier()\n",
    "clf.fit(X_train, y_train)\n",
    "MLP_prediction = clf.predict(X_test)\n",
    "print (classification_report (y_test,MLP_prediction))"
   ]
  },
  {
   "cell_type": "code",
   "execution_count": 77,
   "metadata": {},
   "outputs": [
    {
     "name": "stdout",
     "output_type": "stream",
     "text": [
      "<class 'pandas.core.frame.DataFrame'>\n",
      "Int64Index: 1994 entries, 0 to 1999\n",
      "Data columns (total 8 columns):\n",
      "id                 1994 non-null int64\n",
      "RENDA              1994 non-null float64\n",
      "IDADE              1994 non-null float64\n",
      "EMPRESTIMO         1994 non-null float64\n",
      "RESULTADO          1994 non-null int64\n",
      "FaixaRenda         1994 non-null int64\n",
      "FaixaEtaria        1994 non-null int64\n",
      "FaixaEmprestimo    1994 non-null int64\n",
      "dtypes: float64(3), int64(5)\n",
      "memory usage: 220.2 KB\n"
     ]
    }
   ],
   "source": [
    "dtHalfAnalise.info()"
   ]
  },
  {
   "cell_type": "code",
   "execution_count": 93,
   "metadata": {},
   "outputs": [
    {
     "data": {
      "text/plain": [
       "                        RESULTADO\n",
       "id               count  0            1711.000000\n",
       "                        1             283.000000\n",
       "                 mean   0            1008.655172\n",
       "                        1             971.851590\n",
       "                 std    0             575.512291\n",
       "                                        ...     \n",
       "FaixaEmprestimo  50%    1               3.000000\n",
       "                 75%    0               2.000000\n",
       "                        1               3.000000\n",
       "                 max    0               5.000000\n",
       "                        1               5.000000\n",
       "Length: 112, dtype: float64"
      ]
     },
     "execution_count": 93,
     "metadata": {},
     "output_type": "execute_result"
    }
   ],
   "source": []
  },
  {
   "cell_type": "code",
   "execution_count": 97,
   "metadata": {},
   "outputs": [
    {
     "data": {
      "text/plain": [
       "3.5335689045936394"
      ]
     },
     "execution_count": 97,
     "metadata": {},
     "output_type": "execute_result"
    }
   ],
   "source": [
    "1000 / 283"
   ]
  },
  {
   "cell_type": "code",
   "execution_count": null,
   "metadata": {},
   "outputs": [],
   "source": []
  }
 ],
 "metadata": {
  "kernelspec": {
   "display_name": "Python 3",
   "language": "python",
   "name": "python3"
  },
  "language_info": {
   "codemirror_mode": {
    "name": "ipython",
    "version": 3
   },
   "file_extension": ".py",
   "mimetype": "text/x-python",
   "name": "python",
   "nbconvert_exporter": "python",
   "pygments_lexer": "ipython3",
   "version": "3.6.8"
  }
 },
 "nbformat": 4,
 "nbformat_minor": 2
}
