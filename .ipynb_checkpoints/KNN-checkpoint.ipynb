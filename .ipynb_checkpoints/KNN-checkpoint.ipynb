{
 "cells": [
  {
   "cell_type": "code",
   "execution_count": 9,
   "metadata": {},
   "outputs": [],
   "source": [
    "import pandas as pd\n",
    "import psycopg2\n",
    "import os.path\n",
    "\n",
    "from os import path"
   ]
  },
  {
   "cell_type": "code",
   "execution_count": 10,
   "metadata": {},
   "outputs": [],
   "source": [
    "conn = psycopg2.connect(dbname=\"postgres\", user=\"postgres\", password=\"docker123\", host=\"localhost\", port=\"5432\")\n",
    "cur = conn.cursor()\n",
    "sql = 'select * from MACHINE_ANALISE'\n",
    "pdAnalise = pd.read_sql_query(sql, conn)"
   ]
  },
  {
   "cell_type": "code",
   "execution_count": 11,
   "metadata": {},
   "outputs": [],
   "source": [
    "pdAnalise[\"FaixaRenda\"] = 0\n",
    "pdAnalise[\"FaixaEtaria\"] = 0\n",
    "pdAnalise[\"FaixaEmprestimo\"] = 0"
   ]
  },
  {
   "cell_type": "code",
   "execution_count": 12,
   "metadata": {},
   "outputs": [
    {
     "data": {
      "text/html": [
       "<div>\n",
       "<style scoped>\n",
       "    .dataframe tbody tr th:only-of-type {\n",
       "        vertical-align: middle;\n",
       "    }\n",
       "\n",
       "    .dataframe tbody tr th {\n",
       "        vertical-align: top;\n",
       "    }\n",
       "\n",
       "    .dataframe thead th {\n",
       "        text-align: right;\n",
       "    }\n",
       "</style>\n",
       "<table border=\"1\" class=\"dataframe\">\n",
       "  <thead>\n",
       "    <tr style=\"text-align: right;\">\n",
       "      <th></th>\n",
       "      <th>id</th>\n",
       "      <th>RENDA</th>\n",
       "      <th>IDADE</th>\n",
       "      <th>EMPRESTIMO</th>\n",
       "      <th>RESULTADO</th>\n",
       "      <th>FaixaRenda</th>\n",
       "      <th>FaixaEtaria</th>\n",
       "      <th>FaixaEmprestimo</th>\n",
       "    </tr>\n",
       "  </thead>\n",
       "  <tbody>\n",
       "  </tbody>\n",
       "</table>\n",
       "</div>"
      ],
      "text/plain": [
       "Empty DataFrame\n",
       "Columns: [id, RENDA, IDADE, EMPRESTIMO, RESULTADO, FaixaRenda, FaixaEtaria, FaixaEmprestimo]\n",
       "Index: []"
      ]
     },
     "execution_count": 12,
     "metadata": {},
     "output_type": "execute_result"
    }
   ],
   "source": [
    "pdAnalise = pdAnalise[pdAnalise[\"IDADE\"] > 0]\n",
    "pdAnalise[pdAnalise[\"IDADE\"] < 0 ]"
   ]
  },
  {
   "cell_type": "code",
   "execution_count": 13,
   "metadata": {},
   "outputs": [],
   "source": [
    "pdAnalise.loc[(pdAnalise[\"RENDA\"] < 20000), \"FaixaRenda\"] = 0\n",
    "pdAnalise.loc[(pdAnalise[\"RENDA\"] >= 20000) & (pdAnalise[\"RENDA\"] < 30000), \"FaixaRenda\"] = 1\n",
    "pdAnalise.loc[(pdAnalise[\"RENDA\"] >= 30000) & (pdAnalise[\"RENDA\"] < 40000), \"FaixaRenda\"] = 2\n",
    "pdAnalise.loc[(pdAnalise[\"RENDA\"] >= 40000) & (pdAnalise[\"RENDA\"] < 50000), \"FaixaRenda\"] = 3\n",
    "pdAnalise.loc[(pdAnalise[\"RENDA\"] >= 50000) & (pdAnalise[\"RENDA\"] < 60000), \"FaixaRenda\"] = 4\n",
    "pdAnalise.loc[(pdAnalise[\"RENDA\"] >= 60000) & (pdAnalise[\"RENDA\"] < 70000), \"FaixaRenda\"] = 5\n",
    "pdAnalise.loc[(pdAnalise[\"RENDA\"] >= 70000), \"FaixaRenda\"] = 6"
   ]
  },
  {
   "cell_type": "code",
   "execution_count": 14,
   "metadata": {},
   "outputs": [],
   "source": [
    "pdAnalise.loc[(pdAnalise[\"IDADE\"]) >= 18 & (pdAnalise[\"IDADE\"] < 25), \"FaixaEtaria\"] = 0\n",
    "pdAnalise.loc[(pdAnalise[\"IDADE\"]) >= 25 & (pdAnalise[\"IDADE\"] < 60), \"FaixaEtaria\"] = 1\n",
    "pdAnalise.loc[(pdAnalise[\"IDADE\"] >= 60), \"FaixaEtaria\"] = 2"
   ]
  },
  {
   "cell_type": "code",
   "execution_count": 15,
   "metadata": {},
   "outputs": [],
   "source": [
    "pdAnalise.loc[(pdAnalise[\"EMPRESTIMO\"] < 2000), \"FaixaEmprestimo\"] = 0\n",
    "pdAnalise.loc[(pdAnalise[\"EMPRESTIMO\"] >= 2000) & (pdAnalise[\"EMPRESTIMO\"] < 4000), \"FaixaEmprestimo\"] = 1\n",
    "pdAnalise.loc[(pdAnalise[\"EMPRESTIMO\"] >= 4000) & (pdAnalise[\"EMPRESTIMO\"] < 6000), \"FaixaEmprestimo\"] = 2\n",
    "pdAnalise.loc[(pdAnalise[\"EMPRESTIMO\"] >= 6000) & (pdAnalise[\"EMPRESTIMO\"] < 8000), \"FaixaEmprestimo\"] = 3\n",
    "pdAnalise.loc[(pdAnalise[\"EMPRESTIMO\"] >= 8000) & (pdAnalise[\"EMPRESTIMO\"] < 10000), \"FaixaEmprestimo\"] = 4\n",
    "pdAnalise.loc[(pdAnalise[\"EMPRESTIMO\"] >= 12000) & (pdAnalise[\"EMPRESTIMO\"] < 14000), \"FaixaEmprestimo\"] = 5\n",
    "pdAnalise.loc[(pdAnalise[\"EMPRESTIMO\"] >= 14000) & (pdAnalise[\"EMPRESTIMO\"] < 16000), \"FaixaEmprestimo\"] = 6\n",
    "pdAnalise.loc[(pdAnalise[\"EMPRESTIMO\"] >= 16000), \"FaixaEmprestimo\"] = 7"
   ]
  },
  {
   "cell_type": "code",
   "execution_count": 16,
   "metadata": {},
   "outputs": [],
   "source": [
    "# AJUSTA PROBLEMA DE BASE DESBALANCEADA\n",
    "\n",
    "# SEPARA O REGISTRO NOVO QUE FOI IMPORTADO\n",
    "dtNovRegistroAnalise = pdAnalise[pdAnalise[\"id\"] > 2000]\n",
    "dtAntigosRegistrosAnalise = pdAnalise[pdAnalise[\"id\"] <= 2000]\n",
    "\n",
    "# SEPARA EM DOIS DF UM SOMENTE CLASSIFICADO COM 0 E OUTRO COM 1\n",
    "dtAnaliseZero = dtAntigosRegistrosAnalise[dtAntigosRegistrosAnalise[\"RESULTADO\"] == 0]\n",
    "dtAnaliseUm = dtAntigosRegistrosAnalise[dtAntigosRegistrosAnalise[\"RESULTADO\"] == 1]\n",
    "\n",
    "# SHUFFLE NO DF\n",
    "dtAnaliseZero = dtAnaliseZero.sample(frac=1, random_state=905).reset_index(drop=True)\n",
    "\n",
    "# DEIXA SOMENTE 1000 REGISTROS COM RESULTADOS IGUAL A 0 PARA NÃO DEIXAR A BASE DESBALANCEADA\n",
    "indexZero = dtAnaliseZero[dtAnaliseZero.index > 1000]\n",
    "dtAnaliseZero = dtAnaliseZero.drop(indexZero.index, axis=0)\n",
    "\n",
    "# UNE OS DF NOVAMENTE\n",
    "dtFullTratadaAnalise = pd.concat([dtAnaliseUm, dtAnaliseZero])\n",
    "\n",
    "# SHUFFLE NO DF\n",
    "dtFullTratadaAnalise = dtFullTratadaAnalise.sample(frac=1, random_state=1).reset_index(drop=True)"
   ]
  },
  {
   "cell_type": "code",
   "execution_count": 24,
   "metadata": {},
   "outputs": [],
   "source": [
    "from sklearn.model_selection import train_test_split\n",
    "from sklearn.metrics import accuracy_score\n",
    "from sklearn.metrics import classification_report\n",
    "from sklearn.externals import joblib\n",
    "\n",
    "from sklearn.neighbors import KNeighborsClassifier"
   ]
  },
  {
   "cell_type": "code",
   "execution_count": 32,
   "metadata": {},
   "outputs": [],
   "source": [
    "#############################################################################\n",
    "# KNN  ######################################################################\n",
    "\n",
    "def GeraDump(arquivo, X_train, y_train):\n",
    "        \n",
    "    # PASSA OS PARAMETROS\n",
    "    KNN_model = KNeighborsClassifier(n_neighbors=13)\n",
    "    \n",
    "    # REALIZA O FIT\n",
    "    KNN_model.fit(X_train, y_train)\n",
    "    \n",
    "    # DUMP NO MODELO\n",
    "    joblib.dump(KNN_model, arquivo)\n",
    "    "
   ]
  },
  {
   "cell_type": "code",
   "execution_count": 47,
   "metadata": {},
   "outputs": [],
   "source": [
    "#############################################################################\n",
    "# VERIFICAR SE POSSUI JA DUMP SALVO\n",
    "arquivo = \"./DumpPredict.sav\"\n",
    "\n",
    "# CRIA BASE TREINO E TESTE\n",
    "X_train, X_test, y_train, y_test = train_test_split(dtFullTratadaAnalise.iloc[:,5:8], dtFullTratadaAnalise[\"RESULTADO\"], test_size=0.30, random_state=27)\n",
    "\n",
    "if not path.exists(arquivo):\n",
    "    GeraDump(arquivo, X_train, y_train)\n",
    "\n",
    "# CLASSIFICA O NOVO REGISTRO\n",
    "Loaded_model = joblib.load(arquivo)\n",
    "KNN_prediction_New = Loaded_model.predict(dtNovRegistroAnalise.iloc[:,5:8])\n"
   ]
  },
  {
   "cell_type": "code",
   "execution_count": 51,
   "metadata": {},
   "outputs": [],
   "source": [
    "KNN_prediction = Loaded_model.predict(X_test)\n",
    "acuracia = round(accuracy_score(KNN_prediction, y_test) * 100,2)\n",
    "\n",
    "resultado = [acuracia, KNN_prediction_New[0]]"
   ]
  },
  {
   "cell_type": "code",
   "execution_count": 52,
   "metadata": {},
   "outputs": [
    {
     "data": {
      "text/plain": [
       "[81.61, 0]"
      ]
     },
     "execution_count": 52,
     "metadata": {},
     "output_type": "execute_result"
    }
   ],
   "source": [
    "resultado"
   ]
  }
 ],
 "metadata": {
  "kernelspec": {
   "display_name": "Python 3",
   "language": "python",
   "name": "python3"
  },
  "language_info": {
   "codemirror_mode": {
    "name": "ipython",
    "version": 3
   },
   "file_extension": ".py",
   "mimetype": "text/x-python",
   "name": "python",
   "nbconvert_exporter": "python",
   "pygments_lexer": "ipython3",
   "version": "3.6.8"
  }
 },
 "nbformat": 4,
 "nbformat_minor": 2
}
